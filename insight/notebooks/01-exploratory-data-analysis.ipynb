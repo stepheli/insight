{
 "cells": [
  {
   "cell_type": "code",
   "execution_count": 1,
   "metadata": {},
   "outputs": [],
   "source": [
    "# Import packages\n",
    "import pandas as pd \n",
    "#from pandas.plotting import scatter_matrix\n",
    "import numpy as np \n",
    "import os \n",
    "import matplotlib.pyplot as plt\n",
    "import seaborn as sns\n",
    "sns.set(style=\"ticks\", color_codes=True, font_scale=1)"
   ]
  },
  {
   "cell_type": "code",
   "execution_count": 2,
   "metadata": {},
   "outputs": [],
   "source": [
    "def filter_articles_publications(articles, n_publications, p_top):\n",
    "    \"\"\" \n",
    "    From a large DataFrame of posts from Medium-affiliated publications, \n",
    "    extract those from the most prolific publications.\n",
    "    \n",
    "    Arguments:\n",
    "        articles = DataFrame containing post info\n",
    "        n_publications = Number of publications with the most number of total \n",
    "            posts to filter based on\n",
    "        p_top = Percentage threshold for most popular articles (evaluated based \n",
    "            on number of total claps) \n",
    "        titlekeyword = Word to look for in the title\n",
    "        \n",
    "    Outputs:\n",
    "        articles_filtered = DataFrame of filtered articles, keeping only the \n",
    "            columns to be used in further analysis.\n",
    "    \"\"\"\n",
    "    # Remove articles without an associated publication name, select only those \n",
    "    # with data explicitly in the name\n",
    "    articles = articles[articles.publicationname.notnull()]\n",
    "    articles = articles[articles[\"publicationname\"].str.contains(\"Data\")]\n",
    "    \n",
    "    # Construct list of unique publications, sort according to most prolific\n",
    "    pub_count = articles.groupby([\"publicationname\"]).size().reset_index(\n",
    "            name=\"counts\")\n",
    "    pub_count = pub_count.sort_values([\"counts\"],ascending=False)\n",
    "    print(pub_count.head())\n",
    "    \n",
    "    print(\"Initial input: {} articles across {} publications\".format(\n",
    "            len(articles),len(pub_count)))\n",
    "    \n",
    "    # Filter articles to get only those from the top publications\n",
    "    top_pubs = pub_count[\"publicationname\"][0:n_publications+1].values.tolist()\n",
    "    print(top_pubs)\n",
    "    articles_filtered = articles[articles[\"publicationname\"].isin(top_pubs)]\n",
    "    \n",
    "    # Remove duplicates identified based on identical post ID\n",
    "    articles_filtered = articles_filtered.drop_duplicates(\n",
    "            subset=\"postId\", keep='first')\n",
    "    \n",
    "    # Filter articles to get only those that are most popular\n",
    "    n_articles = int(np.ceil(p_top*len(articles_filtered)))\n",
    "    articles_filtered = articles_filtered.sort_values([\"totalClapCount\"],\n",
    "                                                    ascending=False)\n",
    "    articles_filtered = articles_filtered.iloc[0:n_articles,:]\n",
    "    \n",
    "    # Pull out only the columns to be used in further analysis\n",
    "    articles_filtered = articles_filtered[[\"postId\",\n",
    "                  \"firstPublishedDatetime\",\n",
    "                  \"imageCount\",\n",
    "                  \"linksCount\",\n",
    "                  \"tagsCount\",\n",
    "                  \"text\",\n",
    "                  \"title\",\n",
    "                  \"wordCount\",\n",
    "                  \"codeBlock\",\n",
    "                  \"codeBlockCount\",\n",
    "                  \"publicationname\",\n",
    "                  \"totalClapCount\",\n",
    "                  \"recommends\",\n",
    "                  \"responsesCreatedCount\"]]\n",
    "    \n",
    "    print(\" \")\n",
    "    print(\"Filter settings: Most popular {}% {} most prolific publications\".format(\n",
    "            p_top*100, n_publications))\n",
    "    print(\"{} articles remaining\".format(len(articles_filtered)))    \n",
    "    \n",
    "    return articles_filtered"
   ]
  },
  {
   "cell_type": "code",
   "execution_count": 3,
   "metadata": {},
   "outputs": [],
   "source": [
    "def filter_articles_codeblocks(articles, n_codeblocks, p_top):\n",
    "    \"\"\" \n",
    "    From a large DataFrame of posts from Medium-affiliated publications, \n",
    "    extract the most popular posts which also contain code.\n",
    "    \n",
    "    Arguments:\n",
    "        articles = DataFrame containing post info\n",
    "        n_codeblocks = Minimum number of codeblocks in post \n",
    "        p_top = Percentage threshold for most popular articles (evaluated based \n",
    "            on number of total claps) \n",
    "        titlekeyword = Word to look for in the title\n",
    "        \n",
    "    Outputs:\n",
    "        articles_filtered = DataFrame of filtered articles, keeping only the \n",
    "            columns to be used in further analysis.\n",
    "    \"\"\"\n",
    "    # Preliminary cleaning: remove articles with a missing publication name or\n",
    "    # not in English\n",
    "    articles = articles[articles.publicationname.notnull()]\n",
    "    articles = articles[articles[\"language\"] == \"en\"]\n",
    "    \n",
    "    print(\"Initial input: {} articles\".format(len(articles)))\n",
    "    \n",
    "    # Remove articles without sufficient codeblocks\n",
    "    articles_filtered = articles[articles[\"codeBlockCount\"] >= n_codeblocks]\n",
    "            \n",
    "    # Filter articles to get only those that are most popular\n",
    "    articles_filtered = articles_filtered.drop_duplicates(subset=\"postId\", keep='first')\n",
    "    n_articles = int(np.ceil(p_top*len(articles_filtered)))\n",
    "    articles_filtered = articles_filtered.sort_values([\"totalClapCount\"],\n",
    "                                                    ascending=False)\n",
    "    articles_filtered = articles_filtered.iloc[0:n_articles,:]\n",
    "    \n",
    "    # Pull out only the columns to be used in further analysis\n",
    "    articles_filtered = articles_filtered[[\"postId\",\n",
    "                  \"firstPublishedDatetime\",\n",
    "                  \"imageCount\",\n",
    "                  \"linksCount\",\n",
    "                  \"tagsCount\",\n",
    "                  \"text\",\n",
    "                  \"title\",\n",
    "                  \"wordCount\",\n",
    "                  \"codeBlock\",\n",
    "                  \"codeBlockCount\",\n",
    "                  \"publicationname\",\n",
    "                  \"totalClapCount\",\n",
    "                  \"recommends\",\n",
    "                  \"url\",\n",
    "                  \"responsesCreatedCount\"]]\n",
    "    \n",
    "    print(\" \")\n",
    "    print(\"Filter settings: Most popular {}% with minimum {} codeblock\".format(\n",
    "            p_top*100, n_codeblocks))\n",
    "    print(\"{} articles remaining\".format(len(articles_filtered)))    \n",
    "    \n",
    "    return articles_filtered"
   ]
  },
  {
   "cell_type": "code",
   "execution_count": 4,
   "metadata": {},
   "outputs": [],
   "source": [
    "# Import data\n",
    "filedir_input = os.path.dirname(os.path.realpath('__file__'))\n",
    "filename_input = os.path.join('../data/raw/Medium_AggregatedData.csv')\n",
    "filename_input = os.path.abspath(os.path.realpath(filename_input))\n",
    "articles = pd.read_csv(filename_input)\n",
    "articles[\"firstPublishedDatetime\"] = pd.to_datetime(\n",
    "        articles[\"firstPublishedDatetime\"])"
   ]
  },
  {
   "cell_type": "code",
   "execution_count": 5,
   "metadata": {},
   "outputs": [
    {
     "name": "stdout",
     "output_type": "stream",
     "text": [
      "% of articles with clap count of 0: 28.869685274539748\n",
      "% of articles with a clap count < 10: 52.39415259481288\n"
     ]
    }
   ],
   "source": [
    "n_articles = len(articles)\n",
    "articles_g0 = articles[articles[\"totalClapCount\"] > 0]\n",
    "n_articles_g0 = len(articles_g0)\n",
    "percent_g0 = (1 - (n_articles_g0/n_articles))*100\n",
    "\n",
    "print(\"% of articles with clap count of 0: {}\".format(percent_g0))\n",
    "\n",
    "n_articles = len(articles)\n",
    "articles_g10 = articles[articles[\"totalClapCount\"] > 10]\n",
    "n_articles_g10 = len(articles_g10)\n",
    "percent_g10 = (1 - (n_articles_g10/n_articles))*100\n",
    "\n",
    "print(\"% of articles with a clap count < 10: {}\".format(percent_g10))"
   ]
  },
  {
   "cell_type": "code",
   "execution_count": 6,
   "metadata": {
    "scrolled": true
   },
   "outputs": [
    {
     "name": "stdout",
     "output_type": "stream",
     "text": [
      "0, 0.0\n",
      "5, 0.0\n",
      "10, 0.0\n",
      "15, 0.0\n",
      "20, 0.0\n",
      "25, 0.0\n",
      "30, 1.0\n",
      "35, 1.0\n",
      "40, 2.0\n",
      "45, 4.0\n",
      "50, 8.0\n",
      "55, 14.0\n",
      "60, 23.0\n",
      "65, 40.0\n",
      "70, 53.0\n",
      "75, 72.0\n",
      "80, 104.0\n",
      "85, 158.0\n",
      "90, 263.0\n",
      "95, 575.0\n",
      "100, 291706.0\n"
     ]
    }
   ],
   "source": [
    "percentiles = []\n",
    "for i in np.arange(0,101,5):\n",
    "    percentiles.append(np.percentile(articles[\"totalClapCount\"], i))\n",
    "for i in range(0,len(percentiles)):\n",
    "    print(\"{}, {}\".format(5*i,percentiles[i]))"
   ]
  },
  {
   "cell_type": "code",
   "execution_count": 7,
   "metadata": {},
   "outputs": [
    {
     "name": "stdout",
     "output_type": "stream",
     "text": [
      "37910300\n",
      "51711533\n",
      "5% of the articles have 73.311% of the total claps.\n"
     ]
    }
   ],
   "source": [
    "claps_95 = articles[articles[\"totalClapCount\"] > 575]\n",
    "claps_95 = np.sum(claps_95[\"totalClapCount\"].values)\n",
    "print(claps_95)\n",
    "\n",
    "all_claps = np.sum(articles[\"totalClapCount\"].values)\n",
    "print(all_claps)\n",
    "\n",
    "print('5% of the articles have {0:.3f}% of the total claps.'.format((claps_95/all_claps)*100))"
   ]
  },
  {
   "cell_type": "code",
   "execution_count": 8,
   "metadata": {},
   "outputs": [
    {
     "name": "stdout",
     "output_type": "stream",
     "text": [
      "Initial input: 127259 articles\n",
      " \n",
      "Filter settings: Most popular 100% with minimum 1 codeblock\n",
      "3175 articles remaining\n"
     ]
    }
   ],
   "source": [
    "# Filter articles\n",
    "articles_filtered = filter_articles_codeblocks(articles,1,1)"
   ]
  },
  {
   "cell_type": "code",
   "execution_count": 9,
   "metadata": {},
   "outputs": [],
   "source": [
    "# Duplicate the column containing a unique identifier (postId) so it can be \n",
    "# called directly later, then set it as the DF index\n",
    "articles_filtered[\"postId2\"] = articles_filtered[\"postId\"]\n",
    "articles_filtered.set_index(\"postId\",inplace=True)\n",
    "\n",
    "# Convert datetimeobjects to hour of post for later plotting\n",
    "articles_timelist = []\n",
    "articles_filtered_timelist = []\n",
    "for i in range(0,len(articles)):\n",
    "    articles_timelist.append(\n",
    "            articles[\"firstPublishedDatetime\"].iloc[i].time().hour)\n",
    "for i in range(0,len(articles_filtered)):\n",
    "    articles_filtered_timelist.append(\n",
    "            articles_filtered[\"firstPublishedDatetime\"].iloc[i].time().hour)"
   ]
  },
  {
   "cell_type": "code",
   "execution_count": 10,
   "metadata": {},
   "outputs": [
    {
     "data": {
      "image/png": "[encoded data removed]",
      "text/plain": [
       "<Figure size 1296x504 with 8 Axes>"
      ]
     },
     "metadata": {
      "needs_background": "light"
     },
     "output_type": "display_data"
    }
   ],
   "source": [
    "# Set up bins of predefined size for later histograms\n",
    "bins_words = np.arange(0,5001,250)\n",
    "bins_claps = np.arange(0,1001,50)\n",
    "\n",
    "\n",
    "# Initial visualization: Difference in histograms of post characteristics \n",
    "# between all and popular posts\n",
    "fig = plt.figure(figsize=(18,7))\n",
    "\n",
    "ax1a = fig.add_subplot(2,4,1)\n",
    "sns.distplot(articles_timelist,bins=24,kde=False)\n",
    "plt.xticks(np.arange(0, 25, 6)) \n",
    "ax1a.set_ylabel('All Posts')\n",
    "\n",
    "ax1b = fig.add_subplot(2,4,5)\n",
    "sns.distplot(articles_filtered_timelist,bins=24,kde=False)\n",
    "ax1b.set_xlabel('Hour of Post')\n",
    "plt.xticks(np.arange(0, 25, 6)) \n",
    "ax1b.set_ylabel('Popular Posts')\n",
    "\n",
    "ax2a = fig.add_subplot(2,4,2)\n",
    "sns.distplot(articles[\"totalClapCount\"],bins=bins_claps,kde=False)\n",
    "ax2a.set_xlabel('')\n",
    "ax2a.set_xlim(0,1000)\n",
    "\n",
    "ax2b = fig.add_subplot(2,4,6)\n",
    "sns.distplot(articles_filtered[\"totalClapCount\"],bins=bins_claps,kde=False)\n",
    "ax2b.set_xlabel('Total Clap Count')\n",
    "ax2b.set_xlim(0,1000)\n",
    "\n",
    "ax3a = fig.add_subplot(2,4,3)\n",
    "sns.distplot(articles[\"codeBlockCount\"],bins=100,kde=False)\n",
    "ax3a.set_xlabel('')\n",
    "\n",
    "ax3b = fig.add_subplot(2,4,7)\n",
    "sns.distplot(articles_filtered[\"codeBlockCount\"],bins=25,kde=False)\n",
    "ax3b.set_xlabel('Code Blocks')\n",
    "\n",
    "ax4a = fig.add_subplot(2,4,4)\n",
    "sns.distplot(articles[\"wordCount\"],bins=bins_words,kde=False)\n",
    "ax4a.set_xlabel('')\n",
    "ax4a.set_xlim(0,5000)\n",
    "\n",
    "ax4b = fig.add_subplot(2,4,8)\n",
    "sns.distplot(articles_filtered[\"wordCount\"],bins=bins_words,kde=False)\n",
    "ax4b.set_xlabel('Word Count')\n",
    "ax4b.set_xlim(0,5000)\n",
    "\n",
    "plt.subplots_adjust(wspace=0.4)"
   ]
  }
 ],
 "metadata": {
  "kernelspec": {
   "display_name": "Python 3",
   "language": "python",
   "name": "python3"
  },
  "language_info": {
   "codemirror_mode": {
    "name": "ipython",
    "version": 3
   },
   "file_extension": ".py",
   "mimetype": "text/x-python",
   "name": "python",
   "nbconvert_exporter": "python",
   "pygments_lexer": "ipython3",
   "version": "3.7.3"
  },
  "varInspector": {
   "cols": {
    "lenName": 16,
    "lenType": 16,
    "lenVar": 40
   },
   "kernels_config": {
    "python": {
     "delete_cmd_postfix": "",
     "delete_cmd_prefix": "del ",
     "library": "var_list.py",
     "varRefreshCmd": "print(var_dic_list())"
    },
    "r": {
     "delete_cmd_postfix": ") ",
     "delete_cmd_prefix": "rm(",
     "library": "var_list.r",
     "varRefreshCmd": "cat(var_dic_list()) "
    }
   },
   "types_to_exclude": [
    "module",
    "function",
    "builtin_function_or_method",
    "instance",
    "_Feature"
   ],
   "window_display": false
  }
 },
 "nbformat": 4,
 "nbformat_minor": 2
}
