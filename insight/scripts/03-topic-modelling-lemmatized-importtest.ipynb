{
 "cells": [
  {
   "cell_type": "code",
   "execution_count": 1,
   "metadata": {},
   "outputs": [],
   "source": [
    "import pandas\n",
    "from sklearn import model_selection\n",
    "from sklearn.linear_model import LogisticRegression\n",
    "import pickle"
   ]
  },
  {
   "cell_type": "code",
   "execution_count": 2,
   "metadata": {},
   "outputs": [],
   "source": [
    "class TopicModellingSklearn:\n",
    "    def __init__(self,text,min_df,max_df,n_components,random_state):\n",
    "        \"\"\" \n",
    "        Initialize class. \n",
    "        \n",
    "        Arguments:\n",
    "            text - DF column containing text block\n",
    "            min_df = Minimum number of articles the word must appear in for the\n",
    "                word to be considered.\n",
    "            max_df = Threshold for unique words to considered (drop words \n",
    "               appearing too frequently, as in stopwords)\n",
    "            n_topics = Number of topics to consider\n",
    "            random_seed = Random seed to use for the modelling\n",
    "        \"\"\"\n",
    "        # Set up internal class variables\n",
    "        self.text = text\n",
    "        self.min_df = min_df\n",
    "        self.max_df = max_df\n",
    "        self.n_components = n_components\n",
    "        self.random_state = random_state\n",
    "        \n",
    "        # Fit an LDA model\n",
    "        self.LDA_model, self.word_frequency, self.vocabulary = self.LDA_model()\n",
    "\n",
    "            \n",
    "    def LDA_model(self):\n",
    "        \"\"\" Fit text to an LDA model \"\"\"\n",
    "        stop_words_all = list(nltk.corpus.stopwords.words('english'))\n",
    "        print(len(stop_words_all))\n",
    "        stop_words_new = [\"new\",\"like\",\"example\",\"see\",\"code\",\n",
    "                          \"use\",\"used\",\"using\",\"user\",\"one\",\"two\",\"also\",\n",
    "                          \"analysis\",\"data\",\"dataset\",\"row\",\"column\",\n",
    "                         \"set\",\"list\",\"index\",\"item\",\"array\",\n",
    "                          \"let\",\"input\",\"return\",\"function\",\"python\",\n",
    "                         \"panda\",\"package\",\"number\",\"would\",\"figure\",\"make\",\"get\"]\n",
    "        stop_words_all.extend(stop_words_new)\n",
    "        print(len(stop_words_all))\n",
    "        \n",
    "        word_frequency = CountVectorizer(min_df = self.min_df,\n",
    "                                        stop_words=stop_words_all)\n",
    "        vocabulary = word_frequency.fit_transform(\n",
    "                self.text.values.astype('U'))\n",
    "        \n",
    "        LDA = LatentDirichletAllocation(n_components = self.n_components,\n",
    "                                        random_state = self.random_state)\n",
    "        LDA_model = LDA.fit(vocabulary)\n",
    "        "
   ]
  },
  {
   "cell_type": "code",
   "execution_count": 4,
   "metadata": {},
   "outputs": [],
   "source": [
    "LDA_model = pickle.load(open('pickled_LDA_model.sav', 'rb'))"
   ]
  }
 ],
 "metadata": {
  "kernelspec": {
   "display_name": "Python 3",
   "language": "python",
   "name": "python3"
  },
  "language_info": {
   "codemirror_mode": {
    "name": "ipython",
    "version": 3
   },
   "file_extension": ".py",
   "mimetype": "text/x-python",
   "name": "python",
   "nbconvert_exporter": "python",
   "pygments_lexer": "ipython3",
   "version": "3.7.3"
  },
  "varInspector": {
   "cols": {
    "lenName": 16,
    "lenType": 16,
    "lenVar": 40
   },
   "kernels_config": {
    "python": {
     "delete_cmd_postfix": "",
     "delete_cmd_prefix": "del ",
     "library": "var_list.py",
     "varRefreshCmd": "print(var_dic_list())"
    },
    "r": {
     "delete_cmd_postfix": ") ",
     "delete_cmd_prefix": "rm(",
     "library": "var_list.r",
     "varRefreshCmd": "cat(var_dic_list()) "
    }
   },
   "types_to_exclude": [
    "module",
    "function",
    "builtin_function_or_method",
    "instance",
    "_Feature"
   ],
   "window_display": false
  }
 },
 "nbformat": 4,
 "nbformat_minor": 2
}
